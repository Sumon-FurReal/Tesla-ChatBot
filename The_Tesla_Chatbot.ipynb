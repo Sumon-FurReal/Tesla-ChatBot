{
  "cells": [
    {
      "cell_type": "markdown",
      "metadata": {
        "id": "wG3cThyhjNkU"
      },
      "source": [
        "\n",
        "**THE TESLA CHATBOT : Wall-E 🤖**\n",
        "\n"
      ]
    },
    {
      "cell_type": "code",
      "execution_count": null,
      "metadata": {
        "id": "6sNWTlis5DjX"
      },
      "outputs": [],
      "source": [
        "## Import Libraries\n",
        "\n",
        "import numpy as np\n",
        "import nltk\n",
        "import string\n",
        "import random"
      ]
    },
    {
      "cell_type": "code",
      "execution_count": null,
      "metadata": {
        "colab": {
          "base_uri": "https://localhost:8080/"
        },
        "id": "WSFinHJX1grW",
        "outputId": "9181d2e2-97e3-435e-e306-76dff9231bb8"
      },
      "outputs": [
        {
          "name": "stderr",
          "output_type": "stream",
          "text": [
            "[nltk_data] Downloading package punkt to /root/nltk_data...\n",
            "[nltk_data]   Package punkt is already up-to-date!\n",
            "[nltk_data] Downloading package wordnet to /root/nltk_data...\n",
            "[nltk_data]   Package wordnet is already up-to-date!\n",
            "[nltk_data] Downloading package omw-1.4 to /root/nltk_data...\n",
            "[nltk_data]   Package omw-1.4 is already up-to-date!\n"
          ]
        }
      ],
      "source": [
        "## Importing and reading corpus \n",
        "\n",
        "file = open(\"TeslaCorpus.txt\", \"r\", errors = \"ignore\") #Loading the corpus\n",
        "raw_doc = file.read()\n",
        "raw_doc = raw_doc.lower() #Converts Tet to lower case\n",
        "nltk.download(\"punkt\") #Using punkt tokenizer\n",
        "nltk.download(\"wordnet\") #Using wordnet dictionary\n",
        "nltk.download('omw-1.4')\n",
        "sent_tokens = nltk.sent_tokenize(raw_doc) #Convert Doc to list of sentences\n",
        "word_tokens = nltk.word_tokenize(raw_doc) #Convert Doc to list of words"
      ]
    },
    {
      "cell_type": "code",
      "execution_count": null,
      "metadata": {
        "colab": {
          "base_uri": "https://localhost:8080/"
        },
        "id": "BpUlQvPw6Lsw",
        "outputId": "eafad089-56f8-43e2-c906-ec31e4d01241"
      },
      "outputs": [
        {
          "data": {
            "text/plain": [
              "['tesla inc. is an american electric vehicle and clean energy company headquartered in palo alto, california.',\n",
              " 'the company was founded in 2003 by a group of engineers who wanted to create a sustainable transportation system.']"
            ]
          },
          "execution_count": 12,
          "metadata": {},
          "output_type": "execute_result"
        }
      ],
      "source": [
        "## Checking sentence tokens\n",
        "\n",
        "sent_tokens[:2]"
      ]
    },
    {
      "cell_type": "code",
      "execution_count": null,
      "metadata": {
        "colab": {
          "base_uri": "https://localhost:8080/"
        },
        "id": "0Q3hKG-F6rhj",
        "outputId": "5e001f7f-9f04-4e1e-928e-500eeedd9a21"
      },
      "outputs": [
        {
          "data": {
            "text/plain": [
              "['tesla', 'inc.']"
            ]
          },
          "execution_count": 13,
          "metadata": {},
          "output_type": "execute_result"
        }
      ],
      "source": [
        "## Checking word tokens\n",
        "\n",
        "word_tokens[:2]"
      ]
    },
    {
      "cell_type": "code",
      "execution_count": null,
      "metadata": {
        "id": "9sfyDUMu6zFO"
      },
      "outputs": [],
      "source": [
        "# Text Pre-Processing \n",
        "\n",
        "lemm = nltk.stem.WordNetLemmatizer()  #Lemmitization\n",
        "\n",
        "def LemTokens(tokens):                                   #Creating Lem token Function\n",
        "  return[lemm.lemmatize(token) for token in tokens]\n",
        "\n",
        "remove_punct_dict = dict((ord(punct), None) for punct in string.punctuation) #removing punctuation\n",
        "\n",
        "def LemNormalize(text):        #Creating Lem Normalization function\n",
        "  return LemTokens(nltk.word_tokenize(text.lower().translate(remove_punct_dict))) #Word Tokenization, lower case and translate"
      ]
    },
    {
      "cell_type": "code",
      "execution_count": null,
      "metadata": {
        "id": "HgSOVASy8geO"
      },
      "outputs": [],
      "source": [
        "# Defining Greetings\n",
        "greet_input = (\"hello\", \"hi\",\"sup\",\"what's up\", \"hey\")\n",
        "greet_responses = [\"hi\",\"hey\",\"hello\",\"hi there\",\"I am glad you are tlaking to me\"]\n",
        "\n",
        "def greet(sentence):\n",
        "\n",
        "  for word in sentence.split():\n",
        "    if word.lower() in greet_input:\n",
        "      return random.choice(greet_responses)\n"
      ]
    },
    {
      "cell_type": "code",
      "execution_count": null,
      "metadata": {
        "id": "2rbEr_kq-a0Z"
      },
      "outputs": [],
      "source": [
        "# Response generation\n",
        "\n",
        "from sklearn.feature_extraction.text import TfidfVectorizer  #Feature Extraction using Term Fequency inverse document frequency\n",
        "from sklearn.metrics.pairwise import cosine_similarity      #Measure of similarity between two non-zero vectors defined in an inner product space"
      ]
    },
    {
      "cell_type": "code",
      "execution_count": null,
      "metadata": {
        "id": "2dRbQCzm--1b"
      },
      "outputs": [],
      "source": [
        "def response(user_response):   #Creating user response function\n",
        "  robo1_response = ''\n",
        "  TfidfVec = TfidfVectorizer(tokenizer = LemNormalize, stop_words = \"english\")\n",
        "  tfidf = TfidfVec.fit_transform(sent_tokens) \n",
        "  vals = cosine_similarity(tfidf[-1], tfidf)\n",
        "  idx = vals.argsort()[0][-2]\n",
        "  flat = vals.flatten() \n",
        "  flat.sort()\n",
        "  req_tfidf = flat[-2]\n",
        "  if (req_tfidf == 0):\n",
        "    # robo1_response = robo1_response + \"I am sorry, I don't understand you\"\n",
        "    return robo1_response\n",
        "  else:\n",
        "    robo1_response = robo1_response + sent_tokens[idx]\n",
        "    return robo1_response"
      ]
    },
    {
      "cell_type": "code",
      "execution_count": null,
      "metadata": {
        "colab": {
          "background_save": true,
          "base_uri": "https://localhost:8080/"
        },
        "id": "w5cPFYMhBx0h",
        "outputId": "b6088a03-1ea8-41b5-ab15-dd6d4ff0c1e7"
      },
      "outputs": [
        {
          "name": "stdout",
          "output_type": "stream",
          "text": [
            "Wall-E : My name is Wall-E and I am The Tesla Chat Bot\n",
            "Wall-E : hi there\n",
            "Wall-E : "
          ]
        },
        {
          "name": "stderr",
          "output_type": "stream",
          "text": [
            "/usr/local/lib/python3.8/dist-packages/sklearn/feature_extraction/text.py:396: UserWarning: Your stop_words may be inconsistent with your preprocessing. Tokenizing the stop words generated tokens ['ha', 'le', 'u', 'wa'] not in stop_words.\n",
            "  warnings.warn(\n"
          ]
        },
        {
          "name": "stdout",
          "output_type": "stream",
          "text": [
            "the company was founded in 2003 by a group of engineers who wanted to create a sustainable transportation system.\n",
            "Wall-E : [275]\n",
            "\n",
            "motors\n",
            "tesla makes two kinds of electric motors.\n",
            "Wall-E : in august 2018, ceo elon musk briefly considered taking tesla private.\n",
            "Wall-E : as of december 2022, tesla offers four car models: model s, model x, model 3 and model y, and a semi-truck.\n"
          ]
        }
      ],
      "source": [
        "## Convo Start/End Protocols \n",
        "\n",
        "\n",
        "flag = True \n",
        "print(\"Wall-E : My name is Wall-E and I am The Tesla Chat Bot\")\n",
        "while (flag == True):\n",
        "  user_response = input(\"You : \")\n",
        "  user_response = user_response.lower()\n",
        "  if(user_response != \"bye\"):\n",
        "    if(user_response == \"thanks\" or user_response == \"thank you\"):\n",
        "            flag = False\n",
        "            print(\"Wall-E : Welcome..\")\n",
        "    else:\n",
        "      if(greet(user_response)!=None):\n",
        "          print(\"Wall-E : \" + greet(user_response))\n",
        "      else:\n",
        "          sent_tokens.append(user_response)\n",
        "          word_tokens = word_tokens+nltk.word_tokenize(user_response)\n",
        "          final_words = list(set(word_tokens))\n",
        "          print(\"Wall-E : \",end=\"\")\n",
        "          print(response(user_response))\n",
        "          sent_tokens.remove(user_response)\n",
        "  else:\n",
        "    flag = False\n",
        "    print(\"Wall-E : GoodBye! Take Care <3\")"
      ]
    },
    {
      "cell_type": "code",
      "execution_count": null,
      "metadata": {
        "id": "U76OHuVx5S5s"
      },
      "outputs": [],
      "source": []
    }
  ],
  "metadata": {
    "colab": {
      "provenance": []
    },
    "kernelspec": {
      "display_name": "Python 3",
      "name": "python3"
    },
    "language_info": {
      "name": "python"
    }
  },
  "nbformat": 4,
  "nbformat_minor": 0
}